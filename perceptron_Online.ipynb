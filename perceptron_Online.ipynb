{
 "cells": [
  {
   "cell_type": "markdown",
   "metadata": {},
   "source": [
    "# Notebook Instructions\n",
    "<i>You can run the notebook document sequentially (one cell at a time) by pressing <b> shift + enter</b>. While a cell is running, a [*] will display on the left. When it has been run, a number will display indicating the order in which it was run in the notebook [8].</i>\n",
    "\n",
    "<i>Enter edit mode by pressing <b>`Enter`</b> or using the mouse to click on a cell's editor area. Edit mode is indicated by a green cell border and a prompt showing in the editor area.</i>"
   ]
  },
  {
   "cell_type": "markdown",
   "metadata": {},
   "source": [
    "## Neural Network\n",
    "\n",
    "In this notebook, we will use sklearn's MLPClassifier to create a trading strategy using the neural network. We will\n",
    "follow the below steps.\n",
    "\n",
    "1. Import the data\n",
    "2. Define predictors and target variables\n",
    "3. Split the data into train and test dataset\n",
    "4. Scale the data\n",
    "5. Create a neural network using the train data\n",
    "6. Analyze the performance"
   ]
  },
  {
   "cell_type": "markdown",
   "metadata": {},
   "source": [
    "### Import the data\n",
    "\n",
    "We import the data of Boeing Co (ticker: BA) from the csv file."
   ]
  },
  {
   "cell_type": "code",
   "execution_count": 1,
   "metadata": {},
   "outputs": [
    {
     "data": {
      "text/html": [
       "<div>\n",
       "<style scoped>\n",
       "    .dataframe tbody tr th:only-of-type {\n",
       "        vertical-align: middle;\n",
       "    }\n",
       "\n",
       "    .dataframe tbody tr th {\n",
       "        vertical-align: top;\n",
       "    }\n",
       "\n",
       "    .dataframe thead th {\n",
       "        text-align: right;\n",
       "    }\n",
       "</style>\n",
       "<table border=\"1\" class=\"dataframe\">\n",
       "  <thead>\n",
       "    <tr style=\"text-align: right;\">\n",
       "      <th></th>\n",
       "      <th>Open</th>\n",
       "      <th>High</th>\n",
       "      <th>Low</th>\n",
       "      <th>Close</th>\n",
       "      <th>Volume</th>\n",
       "      <th>Dividend</th>\n",
       "      <th>Split</th>\n",
       "      <th>Adj_Open</th>\n",
       "      <th>Adj_High</th>\n",
       "      <th>Adj_Low</th>\n",
       "      <th>Adj_Close</th>\n",
       "      <th>Adj_Volume</th>\n",
       "    </tr>\n",
       "    <tr>\n",
       "      <th>Date</th>\n",
       "      <th></th>\n",
       "      <th></th>\n",
       "      <th></th>\n",
       "      <th></th>\n",
       "      <th></th>\n",
       "      <th></th>\n",
       "      <th></th>\n",
       "      <th></th>\n",
       "      <th></th>\n",
       "      <th></th>\n",
       "      <th></th>\n",
       "      <th></th>\n",
       "    </tr>\n",
       "  </thead>\n",
       "  <tbody>\n",
       "    <tr>\n",
       "      <th>2018-04-11</th>\n",
       "      <td>331.60</td>\n",
       "      <td>337.57</td>\n",
       "      <td>326.31</td>\n",
       "      <td>327.36</td>\n",
       "      <td>4566253.0</td>\n",
       "      <td>0.0</td>\n",
       "      <td>1.0</td>\n",
       "      <td>329.960125</td>\n",
       "      <td>335.900601</td>\n",
       "      <td>324.696286</td>\n",
       "      <td>325.741093</td>\n",
       "      <td>4566253.0</td>\n",
       "    </tr>\n",
       "    <tr>\n",
       "      <th>2018-04-12</th>\n",
       "      <td>331.98</td>\n",
       "      <td>338.35</td>\n",
       "      <td>330.46</td>\n",
       "      <td>337.48</td>\n",
       "      <td>4318083.0</td>\n",
       "      <td>0.0</td>\n",
       "      <td>1.0</td>\n",
       "      <td>330.338246</td>\n",
       "      <td>336.676744</td>\n",
       "      <td>328.825763</td>\n",
       "      <td>335.811046</td>\n",
       "      <td>4318083.0</td>\n",
       "    </tr>\n",
       "    <tr>\n",
       "      <th>2018-04-13</th>\n",
       "      <td>338.99</td>\n",
       "      <td>339.67</td>\n",
       "      <td>326.60</td>\n",
       "      <td>329.28</td>\n",
       "      <td>4730972.0</td>\n",
       "      <td>0.0</td>\n",
       "      <td>1.0</td>\n",
       "      <td>337.313579</td>\n",
       "      <td>337.990216</td>\n",
       "      <td>324.984852</td>\n",
       "      <td>327.651598</td>\n",
       "      <td>4730972.0</td>\n",
       "    </tr>\n",
       "  </tbody>\n",
       "</table>\n",
       "</div>"
      ],
      "text/plain": [
       "              Open    High     Low   Close     Volume  Dividend  Split  \\\n",
       "Date                                                                     \n",
       "2018-04-11  331.60  337.57  326.31  327.36  4566253.0       0.0    1.0   \n",
       "2018-04-12  331.98  338.35  330.46  337.48  4318083.0       0.0    1.0   \n",
       "2018-04-13  338.99  339.67  326.60  329.28  4730972.0       0.0    1.0   \n",
       "\n",
       "              Adj_Open    Adj_High     Adj_Low   Adj_Close  Adj_Volume  \n",
       "Date                                                                    \n",
       "2018-04-11  329.960125  335.900601  324.696286  325.741093   4566253.0  \n",
       "2018-04-12  330.338246  336.676744  328.825763  335.811046   4318083.0  \n",
       "2018-04-13  337.313579  337.990216  324.984852  327.651598   4730972.0  "
      ]
     },
     "execution_count": 1,
     "metadata": {},
     "output_type": "execute_result"
    }
   ],
   "source": [
    "import pandas as pd\n",
    "data = pd.read_csv('BA.csv',index_col=0)\n",
    "data.index = pd.to_datetime(data.index)\n",
    "data.tail(3)"
   ]
  },
  {
   "cell_type": "code",
   "execution_count": 2,
   "metadata": {},
   "outputs": [],
   "source": [
    "data = data.rename(columns={'Adj Close': 'Adj_Close'})"
   ]
  },
  {
   "cell_type": "markdown",
   "metadata": {},
   "source": [
    "### Define predictor variables and a target variable\n",
    "\n",
    "We define a list of predictors as listed below \n",
    "1. ret1 is the one-day returns, \n",
    "2. ret5 is the five-day returns, \n",
    "3. std5 is the five-day standard deviation, \n",
    "4. volume_by_adv20 is the volume divided by the 20-days average of daily volume and \n",
    "5. price differences (High - Low) and (Open - Close). <BR>\n",
    "\n",
    "Syntax:\n",
    "1. <font color='blue'>np.log(data[--]/data[--]/shift(1))</font> computes the log return from the immediately previous row by default.\n",
    "2. <font color='blue'>rolling_sum(dataframe.column_name, window=n)</font> computes the sum of previous n rows.\n",
    "3. <font color='blue'>rolling_std(dataframe.column_name, window=n)</font> computes the standard deviation of previous n rows."
   ]
  },
  {
   "cell_type": "code",
   "execution_count": 3,
   "metadata": {},
   "outputs": [],
   "source": [
    "# Returns\n",
    "import numpy as np\n",
    "data['ret1'] = np.log(data['Adj_Close']/data['Adj_Close'].shift(1))\n",
    "#data['ret5'] = pd.rolling_sum(data.ret1, 5)\n",
    "data['ret5'] = data['ret1'].rolling(window=5).sum()\n",
    "\n",
    "# Standard Deviation\n",
    "#data['std5'] = pd.rolling_std(data.ret1, 5)\n",
    "data['std5'] = data['ret1'].rolling(window=5).std()\n",
    "\n",
    "# Volume by ADV20\n",
    "#data['volume_by_adv20'] = data.Adj_Volume/pd.rolling_mean(data.Adj_Volume,20)\n",
    "data['volume_by_adv20'] = data.Adj_Volume/data['Adj_Volume'].rolling(window=20).mean()\n",
    "\n",
    "# High - low\n",
    "data['H-L'] = data['Adj_High'] - data['Adj_Low']\n",
    "\n",
    "# Open - Close\n",
    "data['O-C'] = data['Adj_Close'] - data['Adj_Open']"
   ]
  },
  {
   "cell_type": "markdown",
   "metadata": {},
   "source": [
    "We define the target variable which is the future one-day returns. <BR>\n",
    "\n",
    "Syntax:\n",
    "<font color='blue'>shift(periods=n)</font> shifts the values by n period(s). If the value of n is negative then, it shifts the values backward and vice-versa."
   ]
  },
  {
   "cell_type": "code",
   "execution_count": 4,
   "metadata": {},
   "outputs": [],
   "source": [
    "# Future returns\n",
    "data['retFut1'] = data.ret1.shift(-1)"
   ]
  },
  {
   "cell_type": "markdown",
   "metadata": {},
   "source": [
    "We drop the NaN values and store the predictor variables in X and target variable in y. The target variable is \n",
    "- 1.0 if the one-day future returns are positive and \n",
    "- 0 if the returns are negative or zero."
   ]
  },
  {
   "cell_type": "code",
   "execution_count": 5,
   "metadata": {},
   "outputs": [],
   "source": [
    "# Define predictor variables (X) and a target variable (y)\n",
    "data = data.dropna()\n",
    "predictor_list = ['H-L','O-C','ret5', 'std5','volume_by_adv20']\n",
    "X = data[predictor_list]\n",
    "\n",
    "import numpy as np\n",
    "y = np.where(data.retFut1 > 0.0, 1.0, 0)"
   ]
  },
  {
   "cell_type": "markdown",
   "metadata": {},
   "source": [
    "### Split the data into train and test dataset\n",
    "\n",
    "This step is required to verify if the neural network we will create is any good. We will split the dataset into two parts, first 80% of the dataset will be used to create the model and the remaining 20% will be used as a test dataset."
   ]
  },
  {
   "cell_type": "code",
   "execution_count": 6,
   "metadata": {},
   "outputs": [],
   "source": [
    "# Split the data into train and test dataset\n",
    "from sklearn.model_selection import train_test_split\n",
    "\n",
    "train_length = int(len(data)*0.80)\n",
    "\n",
    "X_train = X[:train_length-1000]\n",
    "X_test =  X[train_length:]\n",
    "\n",
    "y_train = y[:train_length-1000]\n",
    "y_test = y[train_length:]    "
   ]
  },
  {
   "cell_type": "code",
   "execution_count": 7,
   "metadata": {},
   "outputs": [],
   "source": [
    "X_train1 = X[train_length-1000:train_length] \n",
    "y_train1 = y[train_length-1000:train_length]\n",
    "\n",
    "X_test1 =  X_test[:150]\n",
    "X_test2 =  X_test[150:300]\n",
    "X_test_val =  X_test[300:]\n",
    "\n",
    "\n",
    "y_test1 = y_test[:150]\n",
    "y_test2 = y_test[150:300]\n",
    "y_test_val = y_test[300:]"
   ]
  },
  {
   "cell_type": "code",
   "execution_count": 8,
   "metadata": {},
   "outputs": [
    {
     "data": {
      "text/plain": [
       "(214,)"
      ]
     },
     "execution_count": 8,
     "metadata": {},
     "output_type": "execute_result"
    }
   ],
   "source": [
    "y_test_val.shape"
   ]
  },
  {
   "cell_type": "code",
   "execution_count": 9,
   "metadata": {},
   "outputs": [
    {
     "data": {
      "text/html": [
       "<div>\n",
       "<style scoped>\n",
       "    .dataframe tbody tr th:only-of-type {\n",
       "        vertical-align: middle;\n",
       "    }\n",
       "\n",
       "    .dataframe tbody tr th {\n",
       "        vertical-align: top;\n",
       "    }\n",
       "\n",
       "    .dataframe thead th {\n",
       "        text-align: right;\n",
       "    }\n",
       "</style>\n",
       "<table border=\"1\" class=\"dataframe\">\n",
       "  <thead>\n",
       "    <tr style=\"text-align: right;\">\n",
       "      <th></th>\n",
       "      <th>Open</th>\n",
       "      <th>High</th>\n",
       "      <th>Low</th>\n",
       "      <th>Close</th>\n",
       "      <th>Volume</th>\n",
       "      <th>Dividend</th>\n",
       "      <th>Split</th>\n",
       "      <th>Adj_Open</th>\n",
       "      <th>Adj_High</th>\n",
       "      <th>Adj_Low</th>\n",
       "      <th>Adj_Close</th>\n",
       "      <th>Adj_Volume</th>\n",
       "      <th>ret1</th>\n",
       "      <th>ret5</th>\n",
       "      <th>std5</th>\n",
       "      <th>volume_by_adv20</th>\n",
       "      <th>H-L</th>\n",
       "      <th>O-C</th>\n",
       "      <th>retFut1</th>\n",
       "    </tr>\n",
       "    <tr>\n",
       "      <th>Date</th>\n",
       "      <th></th>\n",
       "      <th></th>\n",
       "      <th></th>\n",
       "      <th></th>\n",
       "      <th></th>\n",
       "      <th></th>\n",
       "      <th></th>\n",
       "      <th></th>\n",
       "      <th></th>\n",
       "      <th></th>\n",
       "      <th></th>\n",
       "      <th></th>\n",
       "      <th></th>\n",
       "      <th></th>\n",
       "      <th></th>\n",
       "      <th></th>\n",
       "      <th></th>\n",
       "      <th></th>\n",
       "      <th></th>\n",
       "    </tr>\n",
       "  </thead>\n",
       "  <tbody>\n",
       "    <tr>\n",
       "      <th>2008-01-30</th>\n",
       "      <td>80.00</td>\n",
       "      <td>84.87</td>\n",
       "      <td>79.69</td>\n",
       "      <td>82.8699</td>\n",
       "      <td>11331100.0</td>\n",
       "      <td>0.0</td>\n",
       "      <td>1.0</td>\n",
       "      <td>60.815679</td>\n",
       "      <td>64.517833</td>\n",
       "      <td>60.580018</td>\n",
       "      <td>62.997365</td>\n",
       "      <td>11331100.0</td>\n",
       "      <td>0.023317</td>\n",
       "      <td>0.079067</td>\n",
       "      <td>0.018629</td>\n",
       "      <td>1.289782</td>\n",
       "      <td>3.937815</td>\n",
       "      <td>2.181686</td>\n",
       "      <td>0.003735</td>\n",
       "    </tr>\n",
       "    <tr>\n",
       "      <th>2008-01-31</th>\n",
       "      <td>81.76</td>\n",
       "      <td>83.84</td>\n",
       "      <td>80.80</td>\n",
       "      <td>83.1800</td>\n",
       "      <td>7887700.0</td>\n",
       "      <td>0.0</td>\n",
       "      <td>1.0</td>\n",
       "      <td>62.153624</td>\n",
       "      <td>63.734831</td>\n",
       "      <td>61.423836</td>\n",
       "      <td>63.233102</td>\n",
       "      <td>7887700.0</td>\n",
       "      <td>0.003735</td>\n",
       "      <td>0.069182</td>\n",
       "      <td>0.019427</td>\n",
       "      <td>0.879880</td>\n",
       "      <td>2.310996</td>\n",
       "      <td>1.079478</td>\n",
       "      <td>-0.005062</td>\n",
       "    </tr>\n",
       "    <tr>\n",
       "      <th>2008-02-01</th>\n",
       "      <td>83.01</td>\n",
       "      <td>83.99</td>\n",
       "      <td>81.85</td>\n",
       "      <td>82.7600</td>\n",
       "      <td>6685900.0</td>\n",
       "      <td>0.0</td>\n",
       "      <td>1.0</td>\n",
       "      <td>63.103869</td>\n",
       "      <td>63.848861</td>\n",
       "      <td>62.222041</td>\n",
       "      <td>62.913820</td>\n",
       "      <td>6685900.0</td>\n",
       "      <td>-0.005062</td>\n",
       "      <td>0.071750</td>\n",
       "      <td>0.018740</td>\n",
       "      <td>0.732508</td>\n",
       "      <td>1.626819</td>\n",
       "      <td>-0.190049</td>\n",
       "      <td>0.001690</td>\n",
       "    </tr>\n",
       "    <tr>\n",
       "      <th>2008-02-04</th>\n",
       "      <td>82.51</td>\n",
       "      <td>83.36</td>\n",
       "      <td>81.91</td>\n",
       "      <td>82.9000</td>\n",
       "      <td>3106300.0</td>\n",
       "      <td>0.0</td>\n",
       "      <td>1.0</td>\n",
       "      <td>62.723771</td>\n",
       "      <td>63.369937</td>\n",
       "      <td>62.267653</td>\n",
       "      <td>63.020247</td>\n",
       "      <td>3106300.0</td>\n",
       "      <td>0.001690</td>\n",
       "      <td>0.066068</td>\n",
       "      <td>0.019428</td>\n",
       "      <td>0.344644</td>\n",
       "      <td>1.102284</td>\n",
       "      <td>0.296476</td>\n",
       "      <td>-0.014703</td>\n",
       "    </tr>\n",
       "    <tr>\n",
       "      <th>2008-02-05</th>\n",
       "      <td>81.61</td>\n",
       "      <td>82.78</td>\n",
       "      <td>81.35</td>\n",
       "      <td>81.6900</td>\n",
       "      <td>4691600.0</td>\n",
       "      <td>0.0</td>\n",
       "      <td>1.0</td>\n",
       "      <td>62.039594</td>\n",
       "      <td>62.929024</td>\n",
       "      <td>61.841943</td>\n",
       "      <td>62.100410</td>\n",
       "      <td>4691600.0</td>\n",
       "      <td>-0.014703</td>\n",
       "      <td>0.008976</td>\n",
       "      <td>0.014019</td>\n",
       "      <td>0.536210</td>\n",
       "      <td>1.087080</td>\n",
       "      <td>0.060816</td>\n",
       "      <td>-0.017037</td>\n",
       "    </tr>\n",
       "  </tbody>\n",
       "</table>\n",
       "</div>"
      ],
      "text/plain": [
       "             Open   High    Low    Close      Volume  Dividend  Split  \\\n",
       "Date                                                                    \n",
       "2008-01-30  80.00  84.87  79.69  82.8699  11331100.0       0.0    1.0   \n",
       "2008-01-31  81.76  83.84  80.80  83.1800   7887700.0       0.0    1.0   \n",
       "2008-02-01  83.01  83.99  81.85  82.7600   6685900.0       0.0    1.0   \n",
       "2008-02-04  82.51  83.36  81.91  82.9000   3106300.0       0.0    1.0   \n",
       "2008-02-05  81.61  82.78  81.35  81.6900   4691600.0       0.0    1.0   \n",
       "\n",
       "             Adj_Open   Adj_High    Adj_Low  Adj_Close  Adj_Volume      ret1  \\\n",
       "Date                                                                           \n",
       "2008-01-30  60.815679  64.517833  60.580018  62.997365  11331100.0  0.023317   \n",
       "2008-01-31  62.153624  63.734831  61.423836  63.233102   7887700.0  0.003735   \n",
       "2008-02-01  63.103869  63.848861  62.222041  62.913820   6685900.0 -0.005062   \n",
       "2008-02-04  62.723771  63.369937  62.267653  63.020247   3106300.0  0.001690   \n",
       "2008-02-05  62.039594  62.929024  61.841943  62.100410   4691600.0 -0.014703   \n",
       "\n",
       "                ret5      std5  volume_by_adv20       H-L       O-C   retFut1  \n",
       "Date                                                                           \n",
       "2008-01-30  0.079067  0.018629         1.289782  3.937815  2.181686  0.003735  \n",
       "2008-01-31  0.069182  0.019427         0.879880  2.310996  1.079478 -0.005062  \n",
       "2008-02-01  0.071750  0.018740         0.732508  1.626819 -0.190049  0.001690  \n",
       "2008-02-04  0.066068  0.019428         0.344644  1.102284  0.296476 -0.014703  \n",
       "2008-02-05  0.008976  0.014019         0.536210  1.087080  0.060816 -0.017037  "
      ]
     },
     "execution_count": 9,
     "metadata": {},
     "output_type": "execute_result"
    }
   ],
   "source": [
    "data.head()"
   ]
  },
  {
   "cell_type": "code",
   "execution_count": 10,
   "metadata": {},
   "outputs": [
    {
     "data": {
      "text/plain": [
       "(2569, 5)"
      ]
     },
     "execution_count": 10,
     "metadata": {},
     "output_type": "execute_result"
    }
   ],
   "source": [
    "data[predictor_list].shape"
   ]
  },
  {
   "cell_type": "markdown",
   "metadata": {},
   "source": [
    "Often, there is a regime change in time series data, so that a model trained on data randomly selected through the dataset will outperform a model trained on data selected from an earlier part of the data, but the latter will be more realistic. Also, if we are forced to select from an earlier part of the data, there is no way to ensure that the statistics of the train and test set are the same (i.e. equal % of classes in each), but that again is realistic. In trading applications, we normally don't have truly stationary statistics, and a ML strategy needs to be robust enough to withstand that."
   ]
  },
  {
   "cell_type": "markdown",
   "metadata": {},
   "source": [
    "### Scale the data\n",
    "\n",
    "In this step, we standardize the features stored in X using sklearn's StandardScaler function. The machine learning model might behave in unexpected fashion if the individual predictors are not standardized.\n",
    "\n",
    "The StandardScaler function standardizes the predictors by removing the mean and scaling to unit variance."
   ]
  },
  {
   "cell_type": "code",
   "execution_count": 11,
   "metadata": {},
   "outputs": [],
   "source": [
    "# from sklearn.preprocessing import StandardScaler\n",
    "# scaler = StandardScaler()\n",
    "\n",
    "# # Create the scaler model using train data\n",
    "# scaler.fit(X_train)\n",
    "\n",
    "# # Transform the training and test data using the scaler model created above\n",
    "# X_train = scaler.transform(X_train)\n",
    "# X_test = scaler.transform(X_test)"
   ]
  },
  {
   "cell_type": "markdown",
   "metadata": {},
   "source": [
    "## Create a neural network model\n",
    "\n",
    "The MLPClassifier function from the sklearn.neural_network package is used to create a neural network model. The MLPClassifier takes following as input parameter\n",
    "1. <b>activation:</b> The activation function such as logistic regression can be used to define the output from the neurons.\n",
    "2. <b>hidden_layer_sizes:</b> A tuple to specify the number of hidden layers and number of neurons in each of the hidden layers. For example, the tuple (2,5) indicates two hidden layers with 2 neurons in the first layer and 5 neurons in the second layer.\n",
    "3. <b>random_state:</b> It is used to initialize the weights and bias.\n",
    "4. <b>solver:</b> A function such as stochastic gradient descent is used to optimize the weights during backpropagation. 'sgd' is specified to indicate 'stochastic gradient descent'. For the full list of functions type help(MLPClassifier)."
   ]
  },
  {
   "cell_type": "code",
   "execution_count": 12,
   "metadata": {},
   "outputs": [],
   "source": [
    "# Import the MLPClassifier\n",
    "from sklearn.naive_bayes import MultinomialNB\n",
    "# Uncomment below line to see details of MLPClassifier\n",
    "# help(MLPClassifier)"
   ]
  },
  {
   "cell_type": "code",
   "execution_count": 13,
   "metadata": {},
   "outputs": [],
   "source": [
    "# seed is initialized to 42\n",
    "seed = 42\n",
    "# Create the MLPClassifier model\n",
    "# mlp = MLPClassifier(activation='logistic', hidden_layer_sizes=(5), random_state=seed, solver='sgd')"
   ]
  },
  {
   "cell_type": "markdown",
   "metadata": {},
   "source": [
    "### Training the model\n",
    "\n",
    "The fit function is used to train the model using the train dataset which is stored in X_train and y_train. The parameters to the fit function are the predictor variables and target variable."
   ]
  },
  {
   "cell_type": "code",
   "execution_count": 14,
   "metadata": {},
   "outputs": [
    {
     "data": {
      "text/plain": [
       "MLPClassifier(activation='logistic', alpha=0.0001, batch_size='auto',\n",
       "       beta_1=0.9, beta_2=0.999, early_stopping=False, epsilon=1e-08,\n",
       "       hidden_layer_sizes=5, learning_rate='constant',\n",
       "       learning_rate_init=0.001, max_iter=10000, momentum=0.9,\n",
       "       nesterovs_momentum=True, power_t=0.5, random_state=42, shuffle=True,\n",
       "       solver='sgd', tol=0.0001, validation_fraction=0.1, verbose=False,\n",
       "       warm_start=False)"
      ]
     },
     "execution_count": 14,
     "metadata": {},
     "output_type": "execute_result"
    }
   ],
   "source": [
    "# Import the MLPClassifier\n",
    "from sklearn.neural_network import MLPClassifier\n",
    "mlp = MLPClassifier(activation='logistic', hidden_layer_sizes=(5), random_state=42, solver='sgd',max_iter=10000)\n",
    "mlp.fit(X_train, y_train)"
   ]
  },
  {
   "cell_type": "code",
   "execution_count": 15,
   "metadata": {},
   "outputs": [],
   "source": [
    "# Uncomment below line to see details of MLPClassifier\n",
    "# help(MLPClassifier)"
   ]
  },
  {
   "cell_type": "markdown",
   "metadata": {},
   "source": [
    "## Predict using the neural network\n",
    "\n",
    "We define a trading rule based on the predicted value from the neural network. If the predicted value is positive then we buy (+1) the stock and otherwise, we don't buy the stock. This signal is stored in predicted_signal. The strategy returns are generated by multiplying the future one-day returns by the predicted signal and stored in the strategy_returns_nn. "
   ]
  },
  {
   "cell_type": "code",
   "execution_count": 16,
   "metadata": {
    "scrolled": true
   },
   "outputs": [
    {
     "data": {
      "text/html": [
       "<div>\n",
       "<style scoped>\n",
       "    .dataframe tbody tr th:only-of-type {\n",
       "        vertical-align: middle;\n",
       "    }\n",
       "\n",
       "    .dataframe tbody tr th {\n",
       "        vertical-align: top;\n",
       "    }\n",
       "\n",
       "    .dataframe thead th {\n",
       "        text-align: right;\n",
       "    }\n",
       "</style>\n",
       "<table border=\"1\" class=\"dataframe\">\n",
       "  <thead>\n",
       "    <tr style=\"text-align: right;\">\n",
       "      <th></th>\n",
       "      <th>Open</th>\n",
       "      <th>High</th>\n",
       "      <th>Low</th>\n",
       "      <th>Close</th>\n",
       "      <th>Volume</th>\n",
       "      <th>Dividend</th>\n",
       "      <th>Split</th>\n",
       "      <th>Adj_Open</th>\n",
       "      <th>Adj_High</th>\n",
       "      <th>Adj_Low</th>\n",
       "      <th>...</th>\n",
       "      <th>Adj_Volume</th>\n",
       "      <th>ret1</th>\n",
       "      <th>ret5</th>\n",
       "      <th>std5</th>\n",
       "      <th>volume_by_adv20</th>\n",
       "      <th>H-L</th>\n",
       "      <th>O-C</th>\n",
       "      <th>retFut1</th>\n",
       "      <th>predicted_signal</th>\n",
       "      <th>strategy_returns_nn</th>\n",
       "    </tr>\n",
       "    <tr>\n",
       "      <th>Date</th>\n",
       "      <th></th>\n",
       "      <th></th>\n",
       "      <th></th>\n",
       "      <th></th>\n",
       "      <th></th>\n",
       "      <th></th>\n",
       "      <th></th>\n",
       "      <th></th>\n",
       "      <th></th>\n",
       "      <th></th>\n",
       "      <th></th>\n",
       "      <th></th>\n",
       "      <th></th>\n",
       "      <th></th>\n",
       "      <th></th>\n",
       "      <th></th>\n",
       "      <th></th>\n",
       "      <th></th>\n",
       "      <th></th>\n",
       "      <th></th>\n",
       "      <th></th>\n",
       "    </tr>\n",
       "  </thead>\n",
       "  <tbody>\n",
       "    <tr>\n",
       "      <th>2018-04-10</th>\n",
       "      <td>331.35</td>\n",
       "      <td>336.69</td>\n",
       "      <td>329.55</td>\n",
       "      <td>334.83</td>\n",
       "      <td>5616231.0</td>\n",
       "      <td>0.0</td>\n",
       "      <td>1.0</td>\n",
       "      <td>329.711361</td>\n",
       "      <td>335.024953</td>\n",
       "      <td>327.920263</td>\n",
       "      <td>...</td>\n",
       "      <td>5616231.0</td>\n",
       "      <td>0.037582</td>\n",
       "      <td>0.012049</td>\n",
       "      <td>0.028752</td>\n",
       "      <td>0.873983</td>\n",
       "      <td>7.104690</td>\n",
       "      <td>3.462790</td>\n",
       "      <td>-0.022562</td>\n",
       "      <td>0.0</td>\n",
       "      <td>-0.0</td>\n",
       "    </tr>\n",
       "    <tr>\n",
       "      <th>2018-04-11</th>\n",
       "      <td>331.60</td>\n",
       "      <td>337.57</td>\n",
       "      <td>326.31</td>\n",
       "      <td>327.36</td>\n",
       "      <td>4566253.0</td>\n",
       "      <td>0.0</td>\n",
       "      <td>1.0</td>\n",
       "      <td>329.960125</td>\n",
       "      <td>335.900601</td>\n",
       "      <td>324.696286</td>\n",
       "      <td>...</td>\n",
       "      <td>4566253.0</td>\n",
       "      <td>-0.022562</td>\n",
       "      <td>-0.000244</td>\n",
       "      <td>0.030575</td>\n",
       "      <td>0.715461</td>\n",
       "      <td>11.204315</td>\n",
       "      <td>-4.219032</td>\n",
       "      <td>0.030446</td>\n",
       "      <td>0.0</td>\n",
       "      <td>0.0</td>\n",
       "    </tr>\n",
       "    <tr>\n",
       "      <th>2018-04-12</th>\n",
       "      <td>331.98</td>\n",
       "      <td>338.35</td>\n",
       "      <td>330.46</td>\n",
       "      <td>337.48</td>\n",
       "      <td>4318083.0</td>\n",
       "      <td>0.0</td>\n",
       "      <td>1.0</td>\n",
       "      <td>330.338246</td>\n",
       "      <td>336.676744</td>\n",
       "      <td>328.825763</td>\n",
       "      <td>...</td>\n",
       "      <td>4318083.0</td>\n",
       "      <td>0.030446</td>\n",
       "      <td>0.003205</td>\n",
       "      <td>0.031367</td>\n",
       "      <td>0.726307</td>\n",
       "      <td>7.850981</td>\n",
       "      <td>5.472801</td>\n",
       "      <td>-0.024598</td>\n",
       "      <td>0.0</td>\n",
       "      <td>-0.0</td>\n",
       "    </tr>\n",
       "  </tbody>\n",
       "</table>\n",
       "<p>3 rows × 21 columns</p>\n",
       "</div>"
      ],
      "text/plain": [
       "              Open    High     Low   Close     Volume  Dividend  Split  \\\n",
       "Date                                                                     \n",
       "2018-04-10  331.35  336.69  329.55  334.83  5616231.0       0.0    1.0   \n",
       "2018-04-11  331.60  337.57  326.31  327.36  4566253.0       0.0    1.0   \n",
       "2018-04-12  331.98  338.35  330.46  337.48  4318083.0       0.0    1.0   \n",
       "\n",
       "              Adj_Open    Adj_High     Adj_Low         ...           \\\n",
       "Date                                                   ...            \n",
       "2018-04-10  329.711361  335.024953  327.920263         ...            \n",
       "2018-04-11  329.960125  335.900601  324.696286         ...            \n",
       "2018-04-12  330.338246  336.676744  328.825763         ...            \n",
       "\n",
       "            Adj_Volume      ret1      ret5      std5  volume_by_adv20  \\\n",
       "Date                                                                    \n",
       "2018-04-10   5616231.0  0.037582  0.012049  0.028752         0.873983   \n",
       "2018-04-11   4566253.0 -0.022562 -0.000244  0.030575         0.715461   \n",
       "2018-04-12   4318083.0  0.030446  0.003205  0.031367         0.726307   \n",
       "\n",
       "                  H-L       O-C   retFut1  predicted_signal  \\\n",
       "Date                                                          \n",
       "2018-04-10   7.104690  3.462790 -0.022562               0.0   \n",
       "2018-04-11  11.204315 -4.219032  0.030446               0.0   \n",
       "2018-04-12   7.850981  5.472801 -0.024598               0.0   \n",
       "\n",
       "            strategy_returns_nn  \n",
       "Date                             \n",
       "2018-04-10                 -0.0  \n",
       "2018-04-11                  0.0  \n",
       "2018-04-12                 -0.0  \n",
       "\n",
       "[3 rows x 21 columns]"
      ]
     },
     "execution_count": 16,
     "metadata": {},
     "output_type": "execute_result"
    }
   ],
   "source": [
    "data['predicted_signal'] = mlp.predict(X)\n",
    "data['strategy_returns_nn'] = data.retFut1 * data.predicted_signal\n",
    "data.tail(3)"
   ]
  },
  {
   "cell_type": "code",
   "execution_count": 17,
   "metadata": {},
   "outputs": [
    {
     "data": {
      "text/plain": [
       "2228.0"
      ]
     },
     "execution_count": 17,
     "metadata": {},
     "output_type": "execute_result"
    }
   ],
   "source": [
    "data['predicted_signal'].sum()"
   ]
  },
  {
   "cell_type": "markdown",
   "metadata": {},
   "source": [
    "## Performance of the neural network"
   ]
  },
  {
   "cell_type": "markdown",
   "metadata": {},
   "source": [
    "We calculate the Sharpe ratio for the strategy in train and test dataset. The risk-free rate is assumed to be 5% p.a."
   ]
  },
  {
   "cell_type": "code",
   "execution_count": 18,
   "metadata": {},
   "outputs": [],
   "source": [
    "# The below function returns the Sharpe ratio for the excess returns (Strategy returns - Risk free rate) passed to it.\n",
    "def annualized_sharpe_ratio(returns, N=252):\n",
    "    return np.sqrt(N) * returns.mean() / returns.std()"
   ]
  },
  {
   "cell_type": "code",
   "execution_count": 19,
   "metadata": {},
   "outputs": [],
   "source": [
    "# Sharpe ratio\n",
    "# Train dataset\n",
    "data['excess_daily_strategy_return'] = data.strategy_returns_nn - 0.05/252\n",
    "sharpe_train_nn = annualized_sharpe_ratio(data.excess_daily_strategy_return.iloc[:train_length-1000])\n",
    "# Test dataset\n",
    "sharpe_test_nn = annualized_sharpe_ratio(data.excess_daily_strategy_return.iloc[train_length+300:])"
   ]
  },
  {
   "cell_type": "code",
   "execution_count": 20,
   "metadata": {},
   "outputs": [],
   "source": [
    "def CAGR(returns):\n",
    "    cumulative_returns = returns.cumsum().iloc[-1]   \n",
    "    period_in_days = len(returns)\n",
    "    return 100*((cumulative_returns+1)**(252.0/period_in_days)-1)"
   ]
  },
  {
   "cell_type": "markdown",
   "metadata": {},
   "source": [
    "We compute the strategy CAGR in train and test dataset."
   ]
  },
  {
   "cell_type": "code",
   "execution_count": 21,
   "metadata": {},
   "outputs": [],
   "source": [
    "# CAGR\n",
    "# Train dataset\n",
    "ret_train_nn = CAGR(data.strategy_returns_nn.iloc[:train_length-1000])\n",
    "# Test dataset\n",
    "ret_test_nn = CAGR(data.strategy_returns_nn.iloc[train_length+300:])"
   ]
  },
  {
   "cell_type": "markdown",
   "metadata": {},
   "source": [
    "#### Plot cumulative returns in train dataset"
   ]
  },
  {
   "cell_type": "code",
   "execution_count": 22,
   "metadata": {},
   "outputs": [],
   "source": [
    "import matplotlib.pyplot as plt\n",
    "import seaborn"
   ]
  },
  {
   "cell_type": "code",
   "execution_count": 23,
   "metadata": {},
   "outputs": [
    {
     "data": {
      "image/png": "[encoded data removed]",
      "text/plain": [
       "<Figure size 432x288 with 1 Axes>"
      ]
     },
     "metadata": {},
     "output_type": "display_data"
    }
   ],
   "source": [
    "# Plot the cumulative returns for neural network in train dataset\n",
    "data.strategy_returns_nn[:train_length-1000].cumsum().plot()\n",
    "\n",
    "# Show the legend\n",
    "plt.legend()\n",
    "\n",
    "# Show the graph\n",
    "plt.show()"
   ]
  },
  {
   "cell_type": "markdown",
   "metadata": {},
   "source": [
    "#### Plot cumulative returns in test dataset"
   ]
  },
  {
   "cell_type": "code",
   "execution_count": 24,
   "metadata": {},
   "outputs": [
    {
     "data": {
      "image/png": "[encoded data removed]",
      "text/plain": [
       "<Figure size 432x288 with 1 Axes>"
      ]
     },
     "metadata": {},
     "output_type": "display_data"
    }
   ],
   "source": [
    "# Plot the cumulative returns for neural network in test dataset\n",
    "data.strategy_returns_nn[train_length+300:].cumsum().plot()\n",
    "\n",
    "# Show the legend\n",
    "plt.legend()\n",
    "\n",
    "# Show the graph\n",
    "plt.show()"
   ]
  },
  {
   "cell_type": "markdown",
   "metadata": {},
   "source": [
    "#### Strategy Results"
   ]
  },
  {
   "cell_type": "code",
   "execution_count": 25,
   "metadata": {},
   "outputs": [
    {
     "name": "stdout",
     "output_type": "stream",
     "text": [
      "Requirement already satisfied: tabulate in c:\\users\\sundeep\\anaconda3\\lib\\site-packages (0.8.3)\n"
     ]
    }
   ],
   "source": [
    "!pip install tabulate"
   ]
  },
  {
   "cell_type": "code",
   "execution_count": 26,
   "metadata": {
    "scrolled": true
   },
   "outputs": [
    {
     "name": "stdout",
     "output_type": "stream",
     "text": [
      "|              |     Train |     Test |\n",
      "|--------------+-----------+----------|\n",
      "| CAGR         | -0.665247 | 28.7851  |\n",
      "| Sharpe Ratio | -0.163322 |  1.94475 |\n"
     ]
    }
   ],
   "source": [
    "from tabulate import tabulate\n",
    "\n",
    "print (tabulate(\n",
    "        [             \n",
    "            ['CAGR', ret_train_nn, ret_test_nn],\n",
    "            ['Sharpe Ratio', sharpe_train_nn, sharpe_test_nn],\n",
    "        ], \n",
    "        headers=['Train', 'Test'], \n",
    "    tablefmt='orgtbl'))"
   ]
  },
  {
   "cell_type": "markdown",
   "metadata": {},
   "source": [
    "#### Accuracy of the neural network classifier\n",
    "\n",
    "The classification_report function from sklearn.metrics package is used to analyze the performance of the neural network. The classification_report takes as input the actual output and the predicted output."
   ]
  },
  {
   "cell_type": "code",
   "execution_count": 27,
   "metadata": {
    "scrolled": true
   },
   "outputs": [
    {
     "data": {
      "text/plain": [
       "(214, 5)"
      ]
     },
     "execution_count": 27,
     "metadata": {},
     "output_type": "execute_result"
    }
   ],
   "source": [
    "X_test_val.shape"
   ]
  },
  {
   "cell_type": "code",
   "execution_count": 28,
   "metadata": {},
   "outputs": [
    {
     "name": "stdout",
     "output_type": "stream",
     "text": [
      "             precision    recall  f1-score   support\n",
      "\n",
      "        0.0       0.43      0.77      0.55        88\n",
      "        1.0       0.64      0.28      0.39       126\n",
      "\n",
      "avg / total       0.55      0.48      0.45       214\n",
      "\n"
     ]
    }
   ],
   "source": [
    "from sklearn.metrics import classification_report\n",
    "print(classification_report(y_test_val, mlp.predict(X_test_val)))"
   ]
  },
  {
   "cell_type": "markdown",
   "metadata": {},
   "source": [
    "The output of classification report\n",
    "1. <B>Precision</B>: tp / (tp + fp) \n",
    "<BR>where tp is the number of true positives and fp the number of false positives. The precision is intuitively the ability of the classifier not to label as positive a sample that is negative.\n",
    "2. <B>Recall</B>: tp / (tp + fn) \n",
    "<BR> where tp is the number of true positives and fn the number of false negatives. The recall is intuitively the ability of the classifier to find all the positive samples.\n",
    "3. <B>F1-score</B>: It can be interpreted as a weighted harmonic mean of the precision and recall, The F1-score reaches its best value at 1 and worst score at 0. \n",
    "5. <B>Support</B>: It is the number of occurrences of each class in y_true."
   ]
  },
  {
   "cell_type": "code",
   "execution_count": null,
   "metadata": {},
   "outputs": [],
   "source": []
  },
  {
   "cell_type": "code",
   "execution_count": null,
   "metadata": {},
   "outputs": [],
   "source": []
  },
  {
   "cell_type": "code",
   "execution_count": null,
   "metadata": {},
   "outputs": [],
   "source": []
  },
  {
   "cell_type": "code",
   "execution_count": 29,
   "metadata": {},
   "outputs": [
    {
     "name": "stderr",
     "output_type": "stream",
     "text": [
      "C:\\Users\\Sundeep\\Anaconda3\\lib\\site-packages\\sklearn\\neural_network\\multilayer_perceptron.py:927: DeprecationWarning: The truth value of an empty array is ambiguous. Returning False, but in future this will result in an error. Use `array.size > 0` to check that an array is not empty.\n",
      "  if np.setdiff1d(classes, self.classes_, assume_unique=True):\n"
     ]
    },
    {
     "data": {
      "text/plain": [
       "MLPClassifier(activation='logistic', alpha=0.0001, batch_size='auto',\n",
       "       beta_1=0.9, beta_2=0.999, early_stopping=False, epsilon=1e-08,\n",
       "       hidden_layer_sizes=5, learning_rate='constant',\n",
       "       learning_rate_init=0.001, max_iter=10000, momentum=0.9,\n",
       "       nesterovs_momentum=True, power_t=0.5, random_state=42, shuffle=True,\n",
       "       solver='sgd', tol=0.0001, validation_fraction=0.1, verbose=False,\n",
       "       warm_start=False)"
      ]
     },
     "execution_count": 29,
     "metadata": {},
     "output_type": "execute_result"
    }
   ],
   "source": [
    "mlp.partial_fit(X_train1, y_train1)"
   ]
  },
  {
   "cell_type": "code",
   "execution_count": 30,
   "metadata": {
    "scrolled": true
   },
   "outputs": [
    {
     "data": {
      "text/html": [
       "<div>\n",
       "<style scoped>\n",
       "    .dataframe tbody tr th:only-of-type {\n",
       "        vertical-align: middle;\n",
       "    }\n",
       "\n",
       "    .dataframe tbody tr th {\n",
       "        vertical-align: top;\n",
       "    }\n",
       "\n",
       "    .dataframe thead th {\n",
       "        text-align: right;\n",
       "    }\n",
       "</style>\n",
       "<table border=\"1\" class=\"dataframe\">\n",
       "  <thead>\n",
       "    <tr style=\"text-align: right;\">\n",
       "      <th></th>\n",
       "      <th>Open</th>\n",
       "      <th>High</th>\n",
       "      <th>Low</th>\n",
       "      <th>Close</th>\n",
       "      <th>Volume</th>\n",
       "      <th>Dividend</th>\n",
       "      <th>Split</th>\n",
       "      <th>Adj_Open</th>\n",
       "      <th>Adj_High</th>\n",
       "      <th>Adj_Low</th>\n",
       "      <th>...</th>\n",
       "      <th>ret1</th>\n",
       "      <th>ret5</th>\n",
       "      <th>std5</th>\n",
       "      <th>volume_by_adv20</th>\n",
       "      <th>H-L</th>\n",
       "      <th>O-C</th>\n",
       "      <th>retFut1</th>\n",
       "      <th>predicted_signal</th>\n",
       "      <th>strategy_returns_nn</th>\n",
       "      <th>excess_daily_strategy_return</th>\n",
       "    </tr>\n",
       "    <tr>\n",
       "      <th>Date</th>\n",
       "      <th></th>\n",
       "      <th></th>\n",
       "      <th></th>\n",
       "      <th></th>\n",
       "      <th></th>\n",
       "      <th></th>\n",
       "      <th></th>\n",
       "      <th></th>\n",
       "      <th></th>\n",
       "      <th></th>\n",
       "      <th></th>\n",
       "      <th></th>\n",
       "      <th></th>\n",
       "      <th></th>\n",
       "      <th></th>\n",
       "      <th></th>\n",
       "      <th></th>\n",
       "      <th></th>\n",
       "      <th></th>\n",
       "      <th></th>\n",
       "      <th></th>\n",
       "    </tr>\n",
       "  </thead>\n",
       "  <tbody>\n",
       "    <tr>\n",
       "      <th>2018-04-10</th>\n",
       "      <td>331.35</td>\n",
       "      <td>336.69</td>\n",
       "      <td>329.55</td>\n",
       "      <td>334.83</td>\n",
       "      <td>5616231.0</td>\n",
       "      <td>0.0</td>\n",
       "      <td>1.0</td>\n",
       "      <td>329.711361</td>\n",
       "      <td>335.024953</td>\n",
       "      <td>327.920263</td>\n",
       "      <td>...</td>\n",
       "      <td>0.037582</td>\n",
       "      <td>0.012049</td>\n",
       "      <td>0.028752</td>\n",
       "      <td>0.873983</td>\n",
       "      <td>7.104690</td>\n",
       "      <td>3.462790</td>\n",
       "      <td>-0.022562</td>\n",
       "      <td>0.0</td>\n",
       "      <td>-0.0</td>\n",
       "      <td>-0.000198</td>\n",
       "    </tr>\n",
       "    <tr>\n",
       "      <th>2018-04-11</th>\n",
       "      <td>331.60</td>\n",
       "      <td>337.57</td>\n",
       "      <td>326.31</td>\n",
       "      <td>327.36</td>\n",
       "      <td>4566253.0</td>\n",
       "      <td>0.0</td>\n",
       "      <td>1.0</td>\n",
       "      <td>329.960125</td>\n",
       "      <td>335.900601</td>\n",
       "      <td>324.696286</td>\n",
       "      <td>...</td>\n",
       "      <td>-0.022562</td>\n",
       "      <td>-0.000244</td>\n",
       "      <td>0.030575</td>\n",
       "      <td>0.715461</td>\n",
       "      <td>11.204315</td>\n",
       "      <td>-4.219032</td>\n",
       "      <td>0.030446</td>\n",
       "      <td>0.0</td>\n",
       "      <td>0.0</td>\n",
       "      <td>-0.000198</td>\n",
       "    </tr>\n",
       "    <tr>\n",
       "      <th>2018-04-12</th>\n",
       "      <td>331.98</td>\n",
       "      <td>338.35</td>\n",
       "      <td>330.46</td>\n",
       "      <td>337.48</td>\n",
       "      <td>4318083.0</td>\n",
       "      <td>0.0</td>\n",
       "      <td>1.0</td>\n",
       "      <td>330.338246</td>\n",
       "      <td>336.676744</td>\n",
       "      <td>328.825763</td>\n",
       "      <td>...</td>\n",
       "      <td>0.030446</td>\n",
       "      <td>0.003205</td>\n",
       "      <td>0.031367</td>\n",
       "      <td>0.726307</td>\n",
       "      <td>7.850981</td>\n",
       "      <td>5.472801</td>\n",
       "      <td>-0.024598</td>\n",
       "      <td>0.0</td>\n",
       "      <td>-0.0</td>\n",
       "      <td>-0.000198</td>\n",
       "    </tr>\n",
       "  </tbody>\n",
       "</table>\n",
       "<p>3 rows × 22 columns</p>\n",
       "</div>"
      ],
      "text/plain": [
       "              Open    High     Low   Close     Volume  Dividend  Split  \\\n",
       "Date                                                                     \n",
       "2018-04-10  331.35  336.69  329.55  334.83  5616231.0       0.0    1.0   \n",
       "2018-04-11  331.60  337.57  326.31  327.36  4566253.0       0.0    1.0   \n",
       "2018-04-12  331.98  338.35  330.46  337.48  4318083.0       0.0    1.0   \n",
       "\n",
       "              Adj_Open    Adj_High     Adj_Low              ...               \\\n",
       "Date                                                        ...                \n",
       "2018-04-10  329.711361  335.024953  327.920263              ...                \n",
       "2018-04-11  329.960125  335.900601  324.696286              ...                \n",
       "2018-04-12  330.338246  336.676744  328.825763              ...                \n",
       "\n",
       "                ret1      ret5      std5  volume_by_adv20        H-L  \\\n",
       "Date                                                                   \n",
       "2018-04-10  0.037582  0.012049  0.028752         0.873983   7.104690   \n",
       "2018-04-11 -0.022562 -0.000244  0.030575         0.715461  11.204315   \n",
       "2018-04-12  0.030446  0.003205  0.031367         0.726307   7.850981   \n",
       "\n",
       "                 O-C   retFut1  predicted_signal  strategy_returns_nn  \\\n",
       "Date                                                                    \n",
       "2018-04-10  3.462790 -0.022562               0.0                 -0.0   \n",
       "2018-04-11 -4.219032  0.030446               0.0                  0.0   \n",
       "2018-04-12  5.472801 -0.024598               0.0                 -0.0   \n",
       "\n",
       "            excess_daily_strategy_return  \n",
       "Date                                      \n",
       "2018-04-10                     -0.000198  \n",
       "2018-04-11                     -0.000198  \n",
       "2018-04-12                     -0.000198  \n",
       "\n",
       "[3 rows x 22 columns]"
      ]
     },
     "execution_count": 30,
     "metadata": {},
     "output_type": "execute_result"
    }
   ],
   "source": [
    "data['predicted_signal'] = mlp.predict(X)\n",
    "data['strategy_returns_nn'] = data.retFut1 * data.predicted_signal\n",
    "data.tail(3)"
   ]
  },
  {
   "cell_type": "code",
   "execution_count": 31,
   "metadata": {},
   "outputs": [
    {
     "data": {
      "text/plain": [
       "2221.0"
      ]
     },
     "execution_count": 31,
     "metadata": {},
     "output_type": "execute_result"
    }
   ],
   "source": [
    "data['predicted_signal'].sum()"
   ]
  },
  {
   "cell_type": "markdown",
   "metadata": {},
   "source": [
    "## Performance of the neural network"
   ]
  },
  {
   "cell_type": "markdown",
   "metadata": {},
   "source": [
    "We calculate the Sharpe ratio for the strategy in train and test dataset. The risk-free rate is assumed to be 5% p.a."
   ]
  },
  {
   "cell_type": "code",
   "execution_count": 32,
   "metadata": {},
   "outputs": [],
   "source": [
    "# Sharpe ratio\n",
    "# Train dataset\n",
    "data['excess_daily_strategy_return'] = data.strategy_returns_nn - 0.05/252\n",
    "sharpe_train_nn = annualized_sharpe_ratio(data.excess_daily_strategy_return.iloc[train_length-1000:train_length])\n",
    "# Test dataset\n",
    "sharpe_test_nn = annualized_sharpe_ratio(data.excess_daily_strategy_return.iloc[train_length+300:])"
   ]
  },
  {
   "cell_type": "markdown",
   "metadata": {},
   "source": [
    "### Strategy CAGR\n",
    "CAGR represents the compounded annual returns of the strategy. The strategy CAGR is computed as follows:\n",
    "\n",
    "<i>(Cumulative returns + 1)^(252/number of days) - 1</i>\n",
    "\n",
    "where cumulative returns are the total strategy returns and number of days represent the total trading days."
   ]
  },
  {
   "cell_type": "markdown",
   "metadata": {},
   "source": [
    "We compute the strategy CAGR in train and test dataset."
   ]
  },
  {
   "cell_type": "code",
   "execution_count": 33,
   "metadata": {},
   "outputs": [],
   "source": [
    "# CAGR\n",
    "# Train dataset\n",
    "ret_train_nn = CAGR(data.strategy_returns_nn.iloc[train_length-1000:train_length])\n",
    "# Test dataset\n",
    "ret_test_nn = CAGR(data.strategy_returns_nn.iloc[train_length+300:])"
   ]
  },
  {
   "cell_type": "markdown",
   "metadata": {},
   "source": [
    "#### Plot cumulative returns in train dataset"
   ]
  },
  {
   "cell_type": "code",
   "execution_count": 34,
   "metadata": {},
   "outputs": [
    {
     "data": {
      "image/png": "[encoded data removed]",
      "text/plain": [
       "<Figure size 432x288 with 1 Axes>"
      ]
     },
     "metadata": {},
     "output_type": "display_data"
    }
   ],
   "source": [
    "# Plot the cumulative returns for neural network in train dataset\n",
    "data.strategy_returns_nn[train_length-1000:train_length].cumsum().plot()\n",
    "\n",
    "# Show the legend\n",
    "plt.legend()\n",
    "\n",
    "# Show the graph\n",
    "plt.show()"
   ]
  },
  {
   "cell_type": "markdown",
   "metadata": {},
   "source": [
    "#### Plot cumulative returns in test dataset"
   ]
  },
  {
   "cell_type": "code",
   "execution_count": 35,
   "metadata": {},
   "outputs": [
    {
     "data": {
      "image/png": "[encoded data removed]",
      "text/plain": [
       "<Figure size 432x288 with 1 Axes>"
      ]
     },
     "metadata": {},
     "output_type": "display_data"
    }
   ],
   "source": [
    "# Plot the cumulative returns for neural network in test dataset\n",
    "data.strategy_returns_nn[train_length+300:].cumsum().plot()\n",
    "\n",
    "# Show the legend\n",
    "plt.legend()\n",
    "\n",
    "# Show the graph\n",
    "plt.show()"
   ]
  },
  {
   "cell_type": "markdown",
   "metadata": {},
   "source": [
    "#### Strategy Results"
   ]
  },
  {
   "cell_type": "code",
   "execution_count": 36,
   "metadata": {
    "scrolled": true
   },
   "outputs": [
    {
     "name": "stdout",
     "output_type": "stream",
     "text": [
      "|              |     Train |     Test |\n",
      "|--------------+-----------+----------|\n",
      "| CAGR         | 12.4311   | 30.1549  |\n",
      "| Sharpe Ratio |  0.498744 |  2.06808 |\n"
     ]
    }
   ],
   "source": [
    "from tabulate import tabulate\n",
    "\n",
    "print (tabulate(\n",
    "        [             \n",
    "            ['CAGR', ret_train_nn, ret_test_nn],\n",
    "            ['Sharpe Ratio', sharpe_train_nn, sharpe_test_nn],\n",
    "        ], \n",
    "        headers=['Train', 'Test'], \n",
    "    tablefmt='orgtbl'))"
   ]
  },
  {
   "cell_type": "markdown",
   "metadata": {},
   "source": [
    "#### Accuracy of the neural network classifier\n",
    "\n",
    "The classification_report function from sklearn.metrics package is used to analyze the performance of the neural network. The classification_report takes as input the actual output and the predicted output."
   ]
  },
  {
   "cell_type": "code",
   "execution_count": 37,
   "metadata": {},
   "outputs": [
    {
     "name": "stdout",
     "output_type": "stream",
     "text": [
      "             precision    recall  f1-score   support\n",
      "\n",
      "        0.0       0.43      0.78      0.56        88\n",
      "        1.0       0.65      0.28      0.39       126\n",
      "\n",
      "avg / total       0.56      0.49      0.46       214\n",
      "\n"
     ]
    }
   ],
   "source": [
    "from sklearn.metrics import classification_report\n",
    "print(classification_report(y_test_val, mlp.predict(X_test_val)))"
   ]
  },
  {
   "cell_type": "code",
   "execution_count": null,
   "metadata": {},
   "outputs": [],
   "source": []
  },
  {
   "cell_type": "code",
   "execution_count": null,
   "metadata": {},
   "outputs": [],
   "source": []
  },
  {
   "cell_type": "code",
   "execution_count": null,
   "metadata": {},
   "outputs": [],
   "source": []
  },
  {
   "cell_type": "code",
   "execution_count": null,
   "metadata": {},
   "outputs": [],
   "source": []
  },
  {
   "cell_type": "code",
   "execution_count": null,
   "metadata": {},
   "outputs": [],
   "source": []
  },
  {
   "cell_type": "code",
   "execution_count": null,
   "metadata": {},
   "outputs": [],
   "source": []
  },
  {
   "cell_type": "code",
   "execution_count": 38,
   "metadata": {},
   "outputs": [
    {
     "name": "stderr",
     "output_type": "stream",
     "text": [
      "C:\\Users\\Sundeep\\Anaconda3\\lib\\site-packages\\sklearn\\neural_network\\multilayer_perceptron.py:927: DeprecationWarning: The truth value of an empty array is ambiguous. Returning False, but in future this will result in an error. Use `array.size > 0` to check that an array is not empty.\n",
      "  if np.setdiff1d(classes, self.classes_, assume_unique=True):\n"
     ]
    },
    {
     "data": {
      "text/plain": [
       "MLPClassifier(activation='logistic', alpha=0.0001, batch_size='auto',\n",
       "       beta_1=0.9, beta_2=0.999, early_stopping=False, epsilon=1e-08,\n",
       "       hidden_layer_sizes=5, learning_rate='constant',\n",
       "       learning_rate_init=0.001, max_iter=10000, momentum=0.9,\n",
       "       nesterovs_momentum=True, power_t=0.5, random_state=42, shuffle=True,\n",
       "       solver='sgd', tol=0.0001, validation_fraction=0.1, verbose=False,\n",
       "       warm_start=False)"
      ]
     },
     "execution_count": 38,
     "metadata": {},
     "output_type": "execute_result"
    }
   ],
   "source": [
    "mlp.partial_fit(X_test1, y_test1)"
   ]
  },
  {
   "cell_type": "code",
   "execution_count": 39,
   "metadata": {
    "scrolled": true
   },
   "outputs": [
    {
     "data": {
      "text/html": [
       "<div>\n",
       "<style scoped>\n",
       "    .dataframe tbody tr th:only-of-type {\n",
       "        vertical-align: middle;\n",
       "    }\n",
       "\n",
       "    .dataframe tbody tr th {\n",
       "        vertical-align: top;\n",
       "    }\n",
       "\n",
       "    .dataframe thead th {\n",
       "        text-align: right;\n",
       "    }\n",
       "</style>\n",
       "<table border=\"1\" class=\"dataframe\">\n",
       "  <thead>\n",
       "    <tr style=\"text-align: right;\">\n",
       "      <th></th>\n",
       "      <th>Open</th>\n",
       "      <th>High</th>\n",
       "      <th>Low</th>\n",
       "      <th>Close</th>\n",
       "      <th>Volume</th>\n",
       "      <th>Dividend</th>\n",
       "      <th>Split</th>\n",
       "      <th>Adj_Open</th>\n",
       "      <th>Adj_High</th>\n",
       "      <th>Adj_Low</th>\n",
       "      <th>...</th>\n",
       "      <th>ret1</th>\n",
       "      <th>ret5</th>\n",
       "      <th>std5</th>\n",
       "      <th>volume_by_adv20</th>\n",
       "      <th>H-L</th>\n",
       "      <th>O-C</th>\n",
       "      <th>retFut1</th>\n",
       "      <th>predicted_signal</th>\n",
       "      <th>strategy_returns_nn</th>\n",
       "      <th>excess_daily_strategy_return</th>\n",
       "    </tr>\n",
       "    <tr>\n",
       "      <th>Date</th>\n",
       "      <th></th>\n",
       "      <th></th>\n",
       "      <th></th>\n",
       "      <th></th>\n",
       "      <th></th>\n",
       "      <th></th>\n",
       "      <th></th>\n",
       "      <th></th>\n",
       "      <th></th>\n",
       "      <th></th>\n",
       "      <th></th>\n",
       "      <th></th>\n",
       "      <th></th>\n",
       "      <th></th>\n",
       "      <th></th>\n",
       "      <th></th>\n",
       "      <th></th>\n",
       "      <th></th>\n",
       "      <th></th>\n",
       "      <th></th>\n",
       "      <th></th>\n",
       "    </tr>\n",
       "  </thead>\n",
       "  <tbody>\n",
       "    <tr>\n",
       "      <th>2018-04-10</th>\n",
       "      <td>331.35</td>\n",
       "      <td>336.69</td>\n",
       "      <td>329.55</td>\n",
       "      <td>334.83</td>\n",
       "      <td>5616231.0</td>\n",
       "      <td>0.0</td>\n",
       "      <td>1.0</td>\n",
       "      <td>329.711361</td>\n",
       "      <td>335.024953</td>\n",
       "      <td>327.920263</td>\n",
       "      <td>...</td>\n",
       "      <td>0.037582</td>\n",
       "      <td>0.012049</td>\n",
       "      <td>0.028752</td>\n",
       "      <td>0.873983</td>\n",
       "      <td>7.104690</td>\n",
       "      <td>3.462790</td>\n",
       "      <td>-0.022562</td>\n",
       "      <td>0.0</td>\n",
       "      <td>-0.0</td>\n",
       "      <td>-0.000198</td>\n",
       "    </tr>\n",
       "    <tr>\n",
       "      <th>2018-04-11</th>\n",
       "      <td>331.60</td>\n",
       "      <td>337.57</td>\n",
       "      <td>326.31</td>\n",
       "      <td>327.36</td>\n",
       "      <td>4566253.0</td>\n",
       "      <td>0.0</td>\n",
       "      <td>1.0</td>\n",
       "      <td>329.960125</td>\n",
       "      <td>335.900601</td>\n",
       "      <td>324.696286</td>\n",
       "      <td>...</td>\n",
       "      <td>-0.022562</td>\n",
       "      <td>-0.000244</td>\n",
       "      <td>0.030575</td>\n",
       "      <td>0.715461</td>\n",
       "      <td>11.204315</td>\n",
       "      <td>-4.219032</td>\n",
       "      <td>0.030446</td>\n",
       "      <td>0.0</td>\n",
       "      <td>0.0</td>\n",
       "      <td>-0.000198</td>\n",
       "    </tr>\n",
       "    <tr>\n",
       "      <th>2018-04-12</th>\n",
       "      <td>331.98</td>\n",
       "      <td>338.35</td>\n",
       "      <td>330.46</td>\n",
       "      <td>337.48</td>\n",
       "      <td>4318083.0</td>\n",
       "      <td>0.0</td>\n",
       "      <td>1.0</td>\n",
       "      <td>330.338246</td>\n",
       "      <td>336.676744</td>\n",
       "      <td>328.825763</td>\n",
       "      <td>...</td>\n",
       "      <td>0.030446</td>\n",
       "      <td>0.003205</td>\n",
       "      <td>0.031367</td>\n",
       "      <td>0.726307</td>\n",
       "      <td>7.850981</td>\n",
       "      <td>5.472801</td>\n",
       "      <td>-0.024598</td>\n",
       "      <td>0.0</td>\n",
       "      <td>-0.0</td>\n",
       "      <td>-0.000198</td>\n",
       "    </tr>\n",
       "  </tbody>\n",
       "</table>\n",
       "<p>3 rows × 22 columns</p>\n",
       "</div>"
      ],
      "text/plain": [
       "              Open    High     Low   Close     Volume  Dividend  Split  \\\n",
       "Date                                                                     \n",
       "2018-04-10  331.35  336.69  329.55  334.83  5616231.0       0.0    1.0   \n",
       "2018-04-11  331.60  337.57  326.31  327.36  4566253.0       0.0    1.0   \n",
       "2018-04-12  331.98  338.35  330.46  337.48  4318083.0       0.0    1.0   \n",
       "\n",
       "              Adj_Open    Adj_High     Adj_Low              ...               \\\n",
       "Date                                                        ...                \n",
       "2018-04-10  329.711361  335.024953  327.920263              ...                \n",
       "2018-04-11  329.960125  335.900601  324.696286              ...                \n",
       "2018-04-12  330.338246  336.676744  328.825763              ...                \n",
       "\n",
       "                ret1      ret5      std5  volume_by_adv20        H-L  \\\n",
       "Date                                                                   \n",
       "2018-04-10  0.037582  0.012049  0.028752         0.873983   7.104690   \n",
       "2018-04-11 -0.022562 -0.000244  0.030575         0.715461  11.204315   \n",
       "2018-04-12  0.030446  0.003205  0.031367         0.726307   7.850981   \n",
       "\n",
       "                 O-C   retFut1  predicted_signal  strategy_returns_nn  \\\n",
       "Date                                                                    \n",
       "2018-04-10  3.462790 -0.022562               0.0                 -0.0   \n",
       "2018-04-11 -4.219032  0.030446               0.0                  0.0   \n",
       "2018-04-12  5.472801 -0.024598               0.0                 -0.0   \n",
       "\n",
       "            excess_daily_strategy_return  \n",
       "Date                                      \n",
       "2018-04-10                     -0.000198  \n",
       "2018-04-11                     -0.000198  \n",
       "2018-04-12                     -0.000198  \n",
       "\n",
       "[3 rows x 22 columns]"
      ]
     },
     "execution_count": 39,
     "metadata": {},
     "output_type": "execute_result"
    }
   ],
   "source": [
    "data['predicted_signal'] = mlp.predict(X)\n",
    "data['strategy_returns_nn'] = data.retFut1 * data.predicted_signal\n",
    "data.tail(3)"
   ]
  },
  {
   "cell_type": "code",
   "execution_count": 40,
   "metadata": {},
   "outputs": [
    {
     "data": {
      "text/plain": [
       "2221.0"
      ]
     },
     "execution_count": 40,
     "metadata": {},
     "output_type": "execute_result"
    }
   ],
   "source": [
    "data['predicted_signal'].sum()"
   ]
  },
  {
   "cell_type": "markdown",
   "metadata": {},
   "source": [
    "## Performance of the neural network"
   ]
  },
  {
   "cell_type": "markdown",
   "metadata": {},
   "source": [
    "We calculate the Sharpe ratio for the strategy in train and test dataset. The risk-free rate is assumed to be 5% p.a."
   ]
  },
  {
   "cell_type": "code",
   "execution_count": 41,
   "metadata": {},
   "outputs": [],
   "source": [
    "# Sharpe ratio\n",
    "# Train dataset\n",
    "data['excess_daily_strategy_return'] = data.strategy_returns_nn - 0.05/252\n",
    "sharpe_train_nn = annualized_sharpe_ratio(data.excess_daily_strategy_return.iloc[:train_length+150])\n",
    "# Test dataset\n",
    "sharpe_test_nn = annualized_sharpe_ratio(data.excess_daily_strategy_return.iloc[train_length+300:])"
   ]
  },
  {
   "cell_type": "markdown",
   "metadata": {},
   "source": [
    "### Strategy CAGR\n",
    "CAGR represents the compounded annual returns of the strategy. The strategy CAGR is computed as follows:\n",
    "\n",
    "<i>(Cumulative returns + 1)^(252/number of days) - 1</i>\n",
    "\n",
    "where cumulative returns are the total strategy returns and number of days represent the total trading days."
   ]
  },
  {
   "cell_type": "markdown",
   "metadata": {},
   "source": [
    "We compute the strategy CAGR in train and test dataset."
   ]
  },
  {
   "cell_type": "code",
   "execution_count": 42,
   "metadata": {},
   "outputs": [],
   "source": [
    "# CAGR\n",
    "# Train dataset\n",
    "ret_train_nn = CAGR(data.strategy_returns_nn.iloc[:train_length+150])\n",
    "# Test dataset\n",
    "ret_test_nn = CAGR(data.strategy_returns_nn.iloc[train_length+300:])"
   ]
  },
  {
   "cell_type": "markdown",
   "metadata": {},
   "source": [
    "#### Plot cumulative returns in train dataset"
   ]
  },
  {
   "cell_type": "code",
   "execution_count": 43,
   "metadata": {},
   "outputs": [
    {
     "data": {
      "image/png": "[encoded data removed]",
      "text/plain": [
       "<Figure size 432x288 with 1 Axes>"
      ]
     },
     "metadata": {},
     "output_type": "display_data"
    }
   ],
   "source": [
    "# Plot the cumulative returns for neural network in train dataset\n",
    "data.strategy_returns_nn[:train_length+150].cumsum().plot()\n",
    "\n",
    "# Show the legend\n",
    "plt.legend()\n",
    "\n",
    "# Show the graph\n",
    "plt.show()"
   ]
  },
  {
   "cell_type": "markdown",
   "metadata": {},
   "source": [
    "#### Plot cumulative returns in test dataset"
   ]
  },
  {
   "cell_type": "code",
   "execution_count": 44,
   "metadata": {},
   "outputs": [
    {
     "data": {
      "image/png": "[encoded data removed]",
      "text/plain": [
       "<Figure size 432x288 with 1 Axes>"
      ]
     },
     "metadata": {},
     "output_type": "display_data"
    }
   ],
   "source": [
    "# Plot the cumulative returns for neural network in test dataset\n",
    "data.strategy_returns_nn[train_length+300:].cumsum().plot()\n",
    "\n",
    "# Show the legend\n",
    "plt.legend()\n",
    "\n",
    "# Show the graph\n",
    "plt.show()"
   ]
  },
  {
   "cell_type": "markdown",
   "metadata": {},
   "source": [
    "#### Strategy Results"
   ]
  },
  {
   "cell_type": "code",
   "execution_count": 45,
   "metadata": {
    "scrolled": true
   },
   "outputs": [
    {
     "name": "stdout",
     "output_type": "stream",
     "text": [
      "|              |     Train |     Test |\n",
      "|--------------+-----------+----------|\n",
      "| CAGR         | 6.04114   | 30.1549  |\n",
      "| Sharpe Ratio | 0.0962101 |  2.06808 |\n"
     ]
    }
   ],
   "source": [
    "from tabulate import tabulate\n",
    "\n",
    "print (tabulate(\n",
    "        [             \n",
    "            ['CAGR', ret_train_nn, ret_test_nn],\n",
    "            ['Sharpe Ratio', sharpe_train_nn, sharpe_test_nn],\n",
    "        ], \n",
    "        headers=['Train', 'Test'], \n",
    "    tablefmt='orgtbl'))"
   ]
  },
  {
   "cell_type": "markdown",
   "metadata": {},
   "source": [
    "#### Accuracy of the neural network classifier\n",
    "\n",
    "The classification_report function from sklearn.metrics package is used to analyze the performance of the neural network. The classification_report takes as input the actual output and the predicted output."
   ]
  },
  {
   "cell_type": "code",
   "execution_count": 46,
   "metadata": {},
   "outputs": [
    {
     "name": "stdout",
     "output_type": "stream",
     "text": [
      "             precision    recall  f1-score   support\n",
      "\n",
      "        0.0       0.43      0.78      0.56        88\n",
      "        1.0       0.65      0.28      0.39       126\n",
      "\n",
      "avg / total       0.56      0.49      0.46       214\n",
      "\n"
     ]
    }
   ],
   "source": [
    "from sklearn.metrics import classification_report\n",
    "print(classification_report(y_test_val, mlp.predict(X_test_val)))"
   ]
  },
  {
   "cell_type": "code",
   "execution_count": null,
   "metadata": {},
   "outputs": [],
   "source": []
  },
  {
   "cell_type": "code",
   "execution_count": 47,
   "metadata": {},
   "outputs": [
    {
     "name": "stderr",
     "output_type": "stream",
     "text": [
      "C:\\Users\\Sundeep\\Anaconda3\\lib\\site-packages\\sklearn\\neural_network\\multilayer_perceptron.py:927: DeprecationWarning: The truth value of an empty array is ambiguous. Returning False, but in future this will result in an error. Use `array.size > 0` to check that an array is not empty.\n",
      "  if np.setdiff1d(classes, self.classes_, assume_unique=True):\n"
     ]
    },
    {
     "data": {
      "text/plain": [
       "MLPClassifier(activation='logistic', alpha=0.0001, batch_size='auto',\n",
       "       beta_1=0.9, beta_2=0.999, early_stopping=False, epsilon=1e-08,\n",
       "       hidden_layer_sizes=5, learning_rate='constant',\n",
       "       learning_rate_init=0.001, max_iter=10000, momentum=0.9,\n",
       "       nesterovs_momentum=True, power_t=0.5, random_state=42, shuffle=True,\n",
       "       solver='sgd', tol=0.0001, validation_fraction=0.1, verbose=False,\n",
       "       warm_start=False)"
      ]
     },
     "execution_count": 47,
     "metadata": {},
     "output_type": "execute_result"
    }
   ],
   "source": [
    "mlp.partial_fit(X_test2, y_test2)"
   ]
  },
  {
   "cell_type": "code",
   "execution_count": 48,
   "metadata": {
    "scrolled": true
   },
   "outputs": [
    {
     "data": {
      "text/html": [
       "<div>\n",
       "<style scoped>\n",
       "    .dataframe tbody tr th:only-of-type {\n",
       "        vertical-align: middle;\n",
       "    }\n",
       "\n",
       "    .dataframe tbody tr th {\n",
       "        vertical-align: top;\n",
       "    }\n",
       "\n",
       "    .dataframe thead th {\n",
       "        text-align: right;\n",
       "    }\n",
       "</style>\n",
       "<table border=\"1\" class=\"dataframe\">\n",
       "  <thead>\n",
       "    <tr style=\"text-align: right;\">\n",
       "      <th></th>\n",
       "      <th>Open</th>\n",
       "      <th>High</th>\n",
       "      <th>Low</th>\n",
       "      <th>Close</th>\n",
       "      <th>Volume</th>\n",
       "      <th>Dividend</th>\n",
       "      <th>Split</th>\n",
       "      <th>Adj_Open</th>\n",
       "      <th>Adj_High</th>\n",
       "      <th>Adj_Low</th>\n",
       "      <th>...</th>\n",
       "      <th>ret1</th>\n",
       "      <th>ret5</th>\n",
       "      <th>std5</th>\n",
       "      <th>volume_by_adv20</th>\n",
       "      <th>H-L</th>\n",
       "      <th>O-C</th>\n",
       "      <th>retFut1</th>\n",
       "      <th>predicted_signal</th>\n",
       "      <th>strategy_returns_nn</th>\n",
       "      <th>excess_daily_strategy_return</th>\n",
       "    </tr>\n",
       "    <tr>\n",
       "      <th>Date</th>\n",
       "      <th></th>\n",
       "      <th></th>\n",
       "      <th></th>\n",
       "      <th></th>\n",
       "      <th></th>\n",
       "      <th></th>\n",
       "      <th></th>\n",
       "      <th></th>\n",
       "      <th></th>\n",
       "      <th></th>\n",
       "      <th></th>\n",
       "      <th></th>\n",
       "      <th></th>\n",
       "      <th></th>\n",
       "      <th></th>\n",
       "      <th></th>\n",
       "      <th></th>\n",
       "      <th></th>\n",
       "      <th></th>\n",
       "      <th></th>\n",
       "      <th></th>\n",
       "    </tr>\n",
       "  </thead>\n",
       "  <tbody>\n",
       "    <tr>\n",
       "      <th>2018-04-10</th>\n",
       "      <td>331.35</td>\n",
       "      <td>336.69</td>\n",
       "      <td>329.55</td>\n",
       "      <td>334.83</td>\n",
       "      <td>5616231.0</td>\n",
       "      <td>0.0</td>\n",
       "      <td>1.0</td>\n",
       "      <td>329.711361</td>\n",
       "      <td>335.024953</td>\n",
       "      <td>327.920263</td>\n",
       "      <td>...</td>\n",
       "      <td>0.037582</td>\n",
       "      <td>0.012049</td>\n",
       "      <td>0.028752</td>\n",
       "      <td>0.873983</td>\n",
       "      <td>7.104690</td>\n",
       "      <td>3.462790</td>\n",
       "      <td>-0.022562</td>\n",
       "      <td>0.0</td>\n",
       "      <td>-0.0</td>\n",
       "      <td>-0.000198</td>\n",
       "    </tr>\n",
       "    <tr>\n",
       "      <th>2018-04-11</th>\n",
       "      <td>331.60</td>\n",
       "      <td>337.57</td>\n",
       "      <td>326.31</td>\n",
       "      <td>327.36</td>\n",
       "      <td>4566253.0</td>\n",
       "      <td>0.0</td>\n",
       "      <td>1.0</td>\n",
       "      <td>329.960125</td>\n",
       "      <td>335.900601</td>\n",
       "      <td>324.696286</td>\n",
       "      <td>...</td>\n",
       "      <td>-0.022562</td>\n",
       "      <td>-0.000244</td>\n",
       "      <td>0.030575</td>\n",
       "      <td>0.715461</td>\n",
       "      <td>11.204315</td>\n",
       "      <td>-4.219032</td>\n",
       "      <td>0.030446</td>\n",
       "      <td>0.0</td>\n",
       "      <td>0.0</td>\n",
       "      <td>-0.000198</td>\n",
       "    </tr>\n",
       "    <tr>\n",
       "      <th>2018-04-12</th>\n",
       "      <td>331.98</td>\n",
       "      <td>338.35</td>\n",
       "      <td>330.46</td>\n",
       "      <td>337.48</td>\n",
       "      <td>4318083.0</td>\n",
       "      <td>0.0</td>\n",
       "      <td>1.0</td>\n",
       "      <td>330.338246</td>\n",
       "      <td>336.676744</td>\n",
       "      <td>328.825763</td>\n",
       "      <td>...</td>\n",
       "      <td>0.030446</td>\n",
       "      <td>0.003205</td>\n",
       "      <td>0.031367</td>\n",
       "      <td>0.726307</td>\n",
       "      <td>7.850981</td>\n",
       "      <td>5.472801</td>\n",
       "      <td>-0.024598</td>\n",
       "      <td>0.0</td>\n",
       "      <td>-0.0</td>\n",
       "      <td>-0.000198</td>\n",
       "    </tr>\n",
       "  </tbody>\n",
       "</table>\n",
       "<p>3 rows × 22 columns</p>\n",
       "</div>"
      ],
      "text/plain": [
       "              Open    High     Low   Close     Volume  Dividend  Split  \\\n",
       "Date                                                                     \n",
       "2018-04-10  331.35  336.69  329.55  334.83  5616231.0       0.0    1.0   \n",
       "2018-04-11  331.60  337.57  326.31  327.36  4566253.0       0.0    1.0   \n",
       "2018-04-12  331.98  338.35  330.46  337.48  4318083.0       0.0    1.0   \n",
       "\n",
       "              Adj_Open    Adj_High     Adj_Low              ...               \\\n",
       "Date                                                        ...                \n",
       "2018-04-10  329.711361  335.024953  327.920263              ...                \n",
       "2018-04-11  329.960125  335.900601  324.696286              ...                \n",
       "2018-04-12  330.338246  336.676744  328.825763              ...                \n",
       "\n",
       "                ret1      ret5      std5  volume_by_adv20        H-L  \\\n",
       "Date                                                                   \n",
       "2018-04-10  0.037582  0.012049  0.028752         0.873983   7.104690   \n",
       "2018-04-11 -0.022562 -0.000244  0.030575         0.715461  11.204315   \n",
       "2018-04-12  0.030446  0.003205  0.031367         0.726307   7.850981   \n",
       "\n",
       "                 O-C   retFut1  predicted_signal  strategy_returns_nn  \\\n",
       "Date                                                                    \n",
       "2018-04-10  3.462790 -0.022562               0.0                 -0.0   \n",
       "2018-04-11 -4.219032  0.030446               0.0                  0.0   \n",
       "2018-04-12  5.472801 -0.024598               0.0                 -0.0   \n",
       "\n",
       "            excess_daily_strategy_return  \n",
       "Date                                      \n",
       "2018-04-10                     -0.000198  \n",
       "2018-04-11                     -0.000198  \n",
       "2018-04-12                     -0.000198  \n",
       "\n",
       "[3 rows x 22 columns]"
      ]
     },
     "execution_count": 48,
     "metadata": {},
     "output_type": "execute_result"
    }
   ],
   "source": [
    "data['predicted_signal'] = mlp.predict(X)\n",
    "data['strategy_returns_nn'] = data.retFut1 * data.predicted_signal\n",
    "data.tail(3)"
   ]
  },
  {
   "cell_type": "code",
   "execution_count": 49,
   "metadata": {},
   "outputs": [
    {
     "data": {
      "text/plain": [
       "2221.0"
      ]
     },
     "execution_count": 49,
     "metadata": {},
     "output_type": "execute_result"
    }
   ],
   "source": [
    "data['predicted_signal'].sum()"
   ]
  },
  {
   "cell_type": "markdown",
   "metadata": {},
   "source": [
    "## Performance of the neural network"
   ]
  },
  {
   "cell_type": "markdown",
   "metadata": {},
   "source": [
    "We calculate the Sharpe ratio for the strategy in train and test dataset. The risk-free rate is assumed to be 5% p.a."
   ]
  },
  {
   "cell_type": "code",
   "execution_count": 50,
   "metadata": {},
   "outputs": [],
   "source": [
    "# Sharpe ratio\n",
    "# Train dataset\n",
    "data['excess_daily_strategy_return'] = data.strategy_returns_nn - 0.05/252\n",
    "sharpe_train_nn = annualized_sharpe_ratio(data.excess_daily_strategy_return.iloc[:train_length+300])\n",
    "# Test dataset\n",
    "sharpe_test_nn = annualized_sharpe_ratio(data.excess_daily_strategy_return.iloc[train_length+300:])"
   ]
  },
  {
   "cell_type": "markdown",
   "metadata": {},
   "source": [
    "### Strategy CAGR\n",
    "CAGR represents the compounded annual returns of the strategy. The strategy CAGR is computed as follows:\n",
    "\n",
    "<i>(Cumulative returns + 1)^(252/number of days) - 1</i>\n",
    "\n",
    "where cumulative returns are the total strategy returns and number of days represent the total trading days."
   ]
  },
  {
   "cell_type": "markdown",
   "metadata": {},
   "source": [
    "We compute the strategy CAGR in train and test dataset."
   ]
  },
  {
   "cell_type": "code",
   "execution_count": 51,
   "metadata": {},
   "outputs": [],
   "source": [
    "# CAGR\n",
    "# Train dataset\n",
    "ret_train_nn = CAGR(data.strategy_returns_nn.iloc[:train_length+300])\n",
    "# Test dataset\n",
    "ret_test_nn = CAGR(data.strategy_returns_nn.iloc[train_length+300:])"
   ]
  },
  {
   "cell_type": "markdown",
   "metadata": {},
   "source": [
    "#### Plot cumulative returns in train dataset"
   ]
  },
  {
   "cell_type": "code",
   "execution_count": 52,
   "metadata": {},
   "outputs": [
    {
     "data": {
      "image/png": "[encoded data removed]",
      "text/plain": [
       "<Figure size 432x288 with 1 Axes>"
      ]
     },
     "metadata": {},
     "output_type": "display_data"
    }
   ],
   "source": [
    "# Plot the cumulative returns for neural network in train dataset\n",
    "data.strategy_returns_nn[:train_length+300].cumsum().plot()\n",
    "\n",
    "# Show the legend\n",
    "plt.legend()\n",
    "\n",
    "# Show the graph\n",
    "plt.show()"
   ]
  },
  {
   "cell_type": "markdown",
   "metadata": {},
   "source": [
    "#### Plot cumulative returns in test dataset"
   ]
  },
  {
   "cell_type": "code",
   "execution_count": 53,
   "metadata": {},
   "outputs": [
    {
     "data": {
      "image/png": "[encoded data removed]",
      "text/plain": [
       "<Figure size 432x288 with 1 Axes>"
      ]
     },
     "metadata": {},
     "output_type": "display_data"
    }
   ],
   "source": [
    "# Plot the cumulative returns for neural network in test dataset\n",
    "data.strategy_returns_nn[train_length+300:].cumsum().plot()\n",
    "\n",
    "# Show the legend\n",
    "plt.legend()\n",
    "\n",
    "# Show the graph\n",
    "plt.show()"
   ]
  },
  {
   "cell_type": "markdown",
   "metadata": {},
   "source": [
    "#### Strategy Results"
   ]
  },
  {
   "cell_type": "code",
   "execution_count": 54,
   "metadata": {
    "scrolled": false
   },
   "outputs": [
    {
     "name": "stdout",
     "output_type": "stream",
     "text": [
      "|              |    Train |     Test |\n",
      "|--------------+----------+----------|\n",
      "| CAGR         | 7.25562  | 30.1549  |\n",
      "| Sharpe Ratio | 0.180996 |  2.06808 |\n"
     ]
    }
   ],
   "source": [
    "from tabulate import tabulate\n",
    "\n",
    "print (tabulate(\n",
    "        [             \n",
    "            ['CAGR', ret_train_nn, ret_test_nn],\n",
    "            ['Sharpe Ratio', sharpe_train_nn, sharpe_test_nn],\n",
    "        ], \n",
    "        headers=['Train', 'Test'], \n",
    "    tablefmt='orgtbl'))"
   ]
  },
  {
   "cell_type": "markdown",
   "metadata": {},
   "source": [
    "#### Accuracy of the neural network classifier\n",
    "\n",
    "The classification_report function from sklearn.metrics package is used to analyze the performance of the neural network. The classification_report takes as input the actual output and the predicted output."
   ]
  },
  {
   "cell_type": "code",
   "execution_count": 55,
   "metadata": {},
   "outputs": [
    {
     "name": "stdout",
     "output_type": "stream",
     "text": [
      "             precision    recall  f1-score   support\n",
      "\n",
      "        0.0       0.43      0.78      0.56        88\n",
      "        1.0       0.65      0.28      0.39       126\n",
      "\n",
      "avg / total       0.56      0.49      0.46       214\n",
      "\n"
     ]
    }
   ],
   "source": [
    "from sklearn.metrics import classification_report\n",
    "print(classification_report(y_test_val, mlp.predict(X_test_val)))"
   ]
  },
  {
   "cell_type": "code",
   "execution_count": null,
   "metadata": {},
   "outputs": [],
   "source": []
  }
 ],
 "metadata": {
  "kernelspec": {
   "display_name": "Python 3",
   "language": "python",
   "name": "python3"
  },
  "language_info": {
   "codemirror_mode": {
    "name": "ipython",
    "version": 3
   },
   "file_extension": ".py",
   "mimetype": "text/x-python",
   "name": "python",
   "nbconvert_exporter": "python",
   "pygments_lexer": "ipython3",
   "version": "3.6.5"
  }
 },
 "nbformat": 4,
 "nbformat_minor": 1
}
