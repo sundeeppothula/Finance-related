{
 "cells": [
  {
   "cell_type": "code",
   "execution_count": 1,
   "metadata": {},
   "outputs": [
    {
     "name": "stdout",
     "output_type": "stream",
     "text": [
      "Collecting quandl\n",
      "  Downloading https://files.pythonhosted.org/packages/47/8c/b61f5c1e9167f4c1c1c2b86991bbbac51a2bd937b36cbc4cc39248dfb2d1/Quandl-3.3.0-py2.py3-none-any.whl\n",
      "Requirement already satisfied: pandas>=0.14 in c:\\anaconda\\lib\\site-packages (from quandl)\n",
      "Requirement already satisfied: numpy>=1.8 in c:\\anaconda\\lib\\site-packages (from quandl)\n",
      "Requirement already satisfied: python-dateutil in c:\\anaconda\\lib\\site-packages (from quandl)\n",
      "Requirement already satisfied: pyOpenSSL in c:\\anaconda\\lib\\site-packages (from quandl)\n",
      "Collecting pyasn1 (from quandl)\n",
      "  Downloading https://files.pythonhosted.org/packages/a0/70/2c27740f08e477499ce19eefe05dbcae6f19fdc49e9e82ce4768be0643b9/pyasn1-0.4.3-py2.py3-none-any.whl (72kB)\n",
      "Collecting ndg-httpsclient (from quandl)\n",
      "  Downloading https://files.pythonhosted.org/packages/78/60/1458ed478eb5777498ca57f4fabf2cf9328ac43e5f6db7839cf73704f3a6/ndg_httpsclient-0.5.0-py3-none-any.whl\n",
      "Requirement already satisfied: six in c:\\anaconda\\lib\\site-packages (from quandl)\n",
      "Requirement already satisfied: requests>=2.7.0 in c:\\anaconda\\lib\\site-packages (from quandl)\n",
      "Collecting inflection>=0.3.1 (from quandl)\n",
      "  Downloading https://files.pythonhosted.org/packages/d5/35/a6eb45b4e2356fe688b21570864d4aa0d0a880ce387defe9c589112077f8/inflection-0.3.1.tar.gz\n",
      "Collecting more-itertools (from quandl)\n",
      "  Downloading https://files.pythonhosted.org/packages/85/40/90c3b0393e12b9827381004224de8814686e3d7182f9d4182477f600826d/more_itertools-4.2.0-py3-none-any.whl (45kB)\n",
      "Requirement already satisfied: pytz>=2011k in c:\\anaconda\\lib\\site-packages (from pandas>=0.14->quandl)\n",
      "Requirement already satisfied: cryptography>=1.7 in c:\\anaconda\\lib\\site-packages (from pyOpenSSL->quandl)\n",
      "Requirement already satisfied: idna>=2.1 in c:\\anaconda\\lib\\site-packages (from cryptography>=1.7->pyOpenSSL->quandl)\n",
      "Requirement already satisfied: asn1crypto>=0.21.0 in c:\\anaconda\\lib\\site-packages (from cryptography>=1.7->pyOpenSSL->quandl)\n",
      "Requirement already satisfied: packaging in c:\\anaconda\\lib\\site-packages (from cryptography>=1.7->pyOpenSSL->quandl)\n",
      "Requirement already satisfied: setuptools>=11.3 in c:\\anaconda\\lib\\site-packages\\setuptools-27.2.0-py3.6.egg (from cryptography>=1.7->pyOpenSSL->quandl)\n",
      "Requirement already satisfied: cffi>=1.4.1 in c:\\anaconda\\lib\\site-packages (from cryptography>=1.7->pyOpenSSL->quandl)\n",
      "Requirement already satisfied: pycparser in c:\\anaconda\\lib\\site-packages (from cffi>=1.4.1->cryptography>=1.7->pyOpenSSL->quandl)\n",
      "Building wheels for collected packages: inflection\n",
      "  Running setup.py bdist_wheel for inflection: started\n",
      "  Running setup.py bdist_wheel for inflection: finished with status 'done'\n",
      "  Stored in directory: C:\\Users\\pothulas\\AppData\\Local\\pip\\Cache\\wheels\\9f\\5a\\d3\\6fc3bf6516d2a3eb7e18f9f28b472110b59325f3f258fe9211\n",
      "Successfully built inflection\n",
      "Installing collected packages: pyasn1, ndg-httpsclient, inflection, more-itertools, quandl\n",
      "Successfully installed inflection-0.3.1 more-itertools-4.2.0 ndg-httpsclient-0.5.0 pyasn1-0.4.3 quandl-3.3.0\n"
     ]
    },
    {
     "name": "stderr",
     "output_type": "stream",
     "text": [
      "You are using pip version 9.0.1, however version 10.0.1 is available.\n",
      "You should consider upgrading via the 'python -m pip install --upgrade pip' command.\n"
     ]
    }
   ],
   "source": [
    "import pandas as pd\n",
    "import numpy as np\n",
    "import datetime #as we deal with time series data\n",
    "import os\n",
    "import time\n",
    "import quandl"
   ]
  },
  {
   "cell_type": "code",
   "execution_count": 27,
   "metadata": {},
   "outputs": [],
   "source": [
    "df_list = pd.read_csv('list_final.csv',header= None)\n",
    "df_list[0] = df_list[0].str.replace('AFMI','AMFI')\n",
    "names = list(df_list[0].values.flatten())"
   ]
  },
  {
   "cell_type": "code",
   "execution_count": 41,
   "metadata": {},
   "outputs": [
    {
     "data": {
      "text/plain": [
       "14497"
      ]
     },
     "execution_count": 41,
     "metadata": {},
     "output_type": "execute_result"
    }
   ],
   "source": [
    "len(df_list)"
   ]
  },
  {
   "cell_type": "code",
   "execution_count": 36,
   "metadata": {},
   "outputs": [],
   "source": [
    "df1=pd.DataFrame()\n",
    "for i in range(100):\n",
    "    df=pd.DataFrame()\n",
    "    try:\n",
    "        quandl.ApiConfig.api_key = 'vNe88aqJKyem7vKwubjx'\n",
    "        df = quandl.get(df_list[0][i], start_date='2010-05-10', end_date='2018-05-22')\n",
    "        df['MF'] = df_list[1][i]\n",
    "        df1 = df1.append(df)\n",
    "        \n",
    "    except:\n",
    "        df = df"
   ]
  },
  {
   "cell_type": "code",
   "execution_count": 40,
   "metadata": {},
   "outputs": [
    {
     "data": {
      "text/html": [
       "<div>\n",
       "<style>\n",
       "    .dataframe thead tr:only-child th {\n",
       "        text-align: right;\n",
       "    }\n",
       "\n",
       "    .dataframe thead th {\n",
       "        text-align: left;\n",
       "    }\n",
       "\n",
       "    .dataframe tbody tr th {\n",
       "        vertical-align: top;\n",
       "    }\n",
       "</style>\n",
       "<table border=\"1\" class=\"dataframe\">\n",
       "  <thead>\n",
       "    <tr style=\"text-align: right;\">\n",
       "      <th></th>\n",
       "      <th>Net Asset Value</th>\n",
       "      <th>Repurchase Price</th>\n",
       "      <th>Sale Price</th>\n",
       "      <th>MF</th>\n",
       "    </tr>\n",
       "    <tr>\n",
       "      <th>Date</th>\n",
       "      <th></th>\n",
       "      <th></th>\n",
       "      <th></th>\n",
       "      <th></th>\n",
       "    </tr>\n",
       "  </thead>\n",
       "  <tbody>\n",
       "    <tr>\n",
       "      <th>2018-05-10</th>\n",
       "      <td>210.29</td>\n",
       "      <td>208.19</td>\n",
       "      <td>210.29</td>\n",
       "      <td>Aditya Birla Sun Life Equity Hybrid'95 Fund - ...</td>\n",
       "    </tr>\n",
       "    <tr>\n",
       "      <th>2018-05-11</th>\n",
       "      <td>211.36</td>\n",
       "      <td>209.25</td>\n",
       "      <td>211.36</td>\n",
       "      <td>Aditya Birla Sun Life Equity Hybrid'95 Fund - ...</td>\n",
       "    </tr>\n",
       "    <tr>\n",
       "      <th>2018-05-14</th>\n",
       "      <td>210.87</td>\n",
       "      <td>208.76</td>\n",
       "      <td>210.87</td>\n",
       "      <td>Aditya Birla Sun Life Equity Hybrid'95 Fund - ...</td>\n",
       "    </tr>\n",
       "    <tr>\n",
       "      <th>2018-05-15</th>\n",
       "      <td>210.30</td>\n",
       "      <td>208.20</td>\n",
       "      <td>210.30</td>\n",
       "      <td>Aditya Birla Sun Life Equity Hybrid'95 Fund - ...</td>\n",
       "    </tr>\n",
       "    <tr>\n",
       "      <th>2018-05-16</th>\n",
       "      <td>209.48</td>\n",
       "      <td>207.39</td>\n",
       "      <td>209.48</td>\n",
       "      <td>Aditya Birla Sun Life Equity Hybrid'95 Fund - ...</td>\n",
       "    </tr>\n",
       "  </tbody>\n",
       "</table>\n",
       "</div>"
      ],
      "text/plain": [
       "            Net Asset Value  Repurchase Price  Sale Price  \\\n",
       "Date                                                        \n",
       "2018-05-10           210.29            208.19      210.29   \n",
       "2018-05-11           211.36            209.25      211.36   \n",
       "2018-05-14           210.87            208.76      210.87   \n",
       "2018-05-15           210.30            208.20      210.30   \n",
       "2018-05-16           209.48            207.39      209.48   \n",
       "\n",
       "                                                           MF  \n",
       "Date                                                           \n",
       "2018-05-10  Aditya Birla Sun Life Equity Hybrid'95 Fund - ...  \n",
       "2018-05-11  Aditya Birla Sun Life Equity Hybrid'95 Fund - ...  \n",
       "2018-05-14  Aditya Birla Sun Life Equity Hybrid'95 Fund - ...  \n",
       "2018-05-15  Aditya Birla Sun Life Equity Hybrid'95 Fund - ...  \n",
       "2018-05-16  Aditya Birla Sun Life Equity Hybrid'95 Fund - ...  "
      ]
     },
     "execution_count": 40,
     "metadata": {},
     "output_type": "execute_result"
    }
   ],
   "source": [
    "df1.head()"
   ]
  },
  {
   "cell_type": "code",
   "execution_count": null,
   "metadata": {
    "collapsed": true
   },
   "outputs": [],
   "source": []
  }
 ],
 "metadata": {
  "kernelspec": {
   "display_name": "Python 3",
   "language": "python",
   "name": "python3"
  },
  "language_info": {
   "codemirror_mode": {
    "name": "ipython",
    "version": 3
   },
   "file_extension": ".py",
   "mimetype": "text/x-python",
   "name": "python",
   "nbconvert_exporter": "python",
   "pygments_lexer": "ipython3",
   "version": "3.6.1"
  }
 },
 "nbformat": 4,
 "nbformat_minor": 2
}
